{
 "cells": [
  {
   "cell_type": "code",
   "execution_count": 1,
   "metadata": {
    "notebookRunGroups": {
     "groupValue": "1"
    }
   },
   "outputs": [
    {
     "name": "stderr",
     "output_type": "stream",
     "text": [
      "2023-09-11 16:50:41.417369: I tensorflow/core/util/port.cc:110] oneDNN custom operations are on. You may see slightly different numerical results due to floating-point round-off errors from different computation orders. To turn them off, set the environment variable `TF_ENABLE_ONEDNN_OPTS=0`.\n",
      "2023-09-11 16:50:41.423889: I tensorflow/tsl/cuda/cudart_stub.cc:28] Could not find cuda drivers on your machine, GPU will not be used.\n",
      "2023-09-11 16:50:41.514220: I tensorflow/tsl/cuda/cudart_stub.cc:28] Could not find cuda drivers on your machine, GPU will not be used.\n",
      "2023-09-11 16:50:41.534597: I tensorflow/core/platform/cpu_feature_guard.cc:182] This TensorFlow binary is optimized to use available CPU instructions in performance-critical operations.\n",
      "To enable the following instructions: AVX2 AVX_VNNI FMA, in other operations, rebuild TensorFlow with the appropriate compiler flags.\n",
      "2023-09-11 16:50:43.712928: W tensorflow/compiler/tf2tensorrt/utils/py_utils.cc:38] TF-TRT Warning: Could not find TensorRT\n"
     ]
    }
   ],
   "source": [
    "import tensorflow as tf\n",
    "import numpy as np\n",
    "import multiprocessing\n",
    "from contextlib import redirect_stdout\n",
    "import io\n",
    "\n",
    "def test(x):\n",
    "    base_list = [1, 2, 3, 4, 5, 6, 7, 8, 9, 10]    \n",
    "    # Repeat the list x times\n",
    "    result = base_list * x\n",
    "    # Square each element in the resulting list\n",
    "    result = [num ** 2 for num in result]\n",
    "    \n",
    "    return result\n",
    "\n",
    "class TrainingProcess(multiprocessing.Process):\n",
    "    def __init__(self, input_args, results_queue):\n",
    "        super().__init__()\n",
    "        self.input_args = input_args\n",
    "        self.results_queue = results_queue\n",
    "\n",
    "    def run(self):\n",
    "        x = self.input_args\n",
    "\n",
    "        # Create a separate StringIO for capturing stdout\n",
    "        stdout_capture = io.StringIO()\n",
    "\n",
    "        with redirect_stdout(stdout_capture):\n",
    "            result = test(x)\n",
    "            \n",
    "            # Store the results in a tuple\n",
    "            #results = (result)  # Corrected to use the calculated result\n",
    "            \n",
    "            # Put the results into the queue\n",
    "            self.results_queue.put(result)\n"
   ]
  },
  {
   "cell_type": "code",
   "execution_count": 2,
   "metadata": {},
   "outputs": [],
   "source": [
    "train_inputs = [\n",
    "        (1),\n",
    "        (2),\n",
    "        (3),\n",
    "        (4)\n",
    "    ]"
   ]
  },
  {
   "cell_type": "code",
   "execution_count": 3,
   "metadata": {},
   "outputs": [
    {
     "name": "stdout",
     "output_type": "stream",
     "text": [
      "Starting process: 0\n",
      "[<TrainingProcess name='TrainingProcess-1' pid=49205 parent=49148 started>]\n",
      "Starting process: 1\n",
      "[<TrainingProcess name='TrainingProcess-1' pid=49205 parent=49148 started>, <TrainingProcess name='TrainingProcess-2' pid=49206 parent=49148 started>]\n",
      "Starting process: 2\n",
      "[<TrainingProcess name='TrainingProcess-1' pid=49205 parent=49148 stopped exitcode=0>, <TrainingProcess name='TrainingProcess-2' pid=49206 parent=49148 stopped exitcode=0>, <TrainingProcess name='TrainingProcess-3' pid=49209 parent=49148 started>]\n",
      "Starting process: 3\n",
      "[<TrainingProcess name='TrainingProcess-1' pid=49205 parent=49148 stopped exitcode=0>, <TrainingProcess name='TrainingProcess-2' pid=49206 parent=49148 stopped exitcode=0>, <TrainingProcess name='TrainingProcess-3' pid=49209 parent=49148 started>, <TrainingProcess name='TrainingProcess-4' pid=49211 parent=49148 started>]\n",
      "[<TrainingProcess name='TrainingProcess-1' pid=49205 parent=49148 stopped exitcode=0>, <TrainingProcess name='TrainingProcess-2' pid=49206 parent=49148 stopped exitcode=0>, <TrainingProcess name='TrainingProcess-3' pid=49209 parent=49148 stopped exitcode=0>, <TrainingProcess name='TrainingProcess-4' pid=49211 parent=49148 stopped exitcode=0>]\n",
      "[1, 4, 9, 16, 25, 36, 49, 64, 81, 100, 1, 4, 9, 16, 25, 36, 49, 64, 81, 100]\n",
      "[1, 4, 9, 16, 25, 36, 49, 64, 81, 100]\n",
      "[1, 4, 9, 16, 25, 36, 49, 64, 81, 100, 1, 4, 9, 16, 25, 36, 49, 64, 81, 100, 1, 4, 9, 16, 25, 36, 49, 64, 81, 100]\n",
      "[1, 4, 9, 16, 25, 36, 49, 64, 81, 100, 1, 4, 9, 16, 25, 36, 49, 64, 81, 100, 1, 4, 9, 16, 25, 36, 49, 64, 81, 100, 1, 4, 9, 16, 25, 36, 49, 64, 81, 100]\n"
     ]
    }
   ],
   "source": [
    "results_queue = multiprocessing.Queue()\n",
    "\n",
    "# Create and start separate processes for each training\n",
    "processes = []\n",
    "for i, input_args in enumerate(train_inputs):\n",
    "    process = TrainingProcess(input_args, results_queue)\n",
    "    processes.append(process)\n",
    "    print(f\"Starting process: {i}\")\n",
    "    process.start()\n",
    "    print(processes)\n",
    "\n",
    "\n",
    "\n",
    "# Collect results from the queue\n",
    "results_list = [results_queue.get() for _ in range(len(train_inputs))]\n",
    "# Access the results from the results_list for each process\n",
    "process1_results = results_list[0]\n",
    "process2_results = results_list[1]\n",
    "process3_results = results_list[2]\n",
    "process4_results = results_list[3]\n",
    "\n",
    "# Wait for all processes to finish\n",
    "for process in processes:\n",
    "    process.join()\n",
    "\n",
    "print(processes)\n",
    "print(process1_results)\n",
    "print(process2_results)\n",
    "print(process3_results)\n",
    "print(process4_results)"
   ]
  }
 ],
 "metadata": {
  "kernelspec": {
   "display_name": "Python 3",
   "language": "python",
   "name": "python3"
  },
  "language_info": {
   "codemirror_mode": {
    "name": "ipython",
    "version": 3
   },
   "file_extension": ".py",
   "mimetype": "text/x-python",
   "name": "python",
   "nbconvert_exporter": "python",
   "pygments_lexer": "ipython3",
   "version": "3.8.10"
  },
  "orig_nbformat": 4
 },
 "nbformat": 4,
 "nbformat_minor": 2
}
